{
  "cells": [
    {
      "cell_type": "markdown",
      "metadata": {
        "id": "ChC3RF8meAlK"
      },
      "source": [
        "<h1 align=\"center\">Introduction to Machine Learning - 25737-2</h1>\n",
        "<h4 align=\"center\">Dr. R. Amiri</h4>\n",
        "<h4 align=\"center\">Sharif University of Technology, Spring 2024</h4>\n",
        "\n",
        "\n",
        "**<font color='red'>Plagiarism is strongly prohibited!</font>**\n",
        "\n",
        "\n",
        "**Student Name**:Kimia Ramezan\n",
        "\n",
        "**Student ID**:400101283\n",
        "\n",
        "\n",
        "\n"
      ]
    },
    {
      "cell_type": "markdown",
      "metadata": {
        "id": "IraiR0SbeDi_"
      },
      "source": [
        "# Logistic Regression"
      ]
    },
    {
      "cell_type": "markdown",
      "metadata": {
        "id": "nRQjwWC3eDnc"
      },
      "source": [
        "**Task:** Implement your own Logistic Regression model, and test it on the given dataset of Logistic_question.csv!"
      ]
    },
    {
      "cell_type": "code",
      "execution_count": 5,
      "metadata": {
        "id": "q_WR_dBFLtIp"
      },
      "outputs": [],
      "source": [
        "import numpy as np\n",
        "import pandas as pd\n",
        "from sklearn.preprocessing import StandardScaler\n",
        "from sklearn.metrics import accuracy_score, precision_score, recall_score, f1_score\n",
        "from sklearn.linear_model import LogisticRegression\n",
        "import matplotlib.pyplot as plt\n",
        "import pandas as pd\n",
        "import numpy as np\n",
        "from sklearn.model_selection import train_test_split, GridSearchCV\n",
        "from sklearn.preprocessing import StandardScaler, OneHotEncoder\n",
        "from sklearn.linear_model import LogisticRegression\n",
        "from sklearn.metrics import accuracy_score\n",
        "from sklearn.compose import ColumnTransformer\n",
        "from sklearn.pipeline import Pipeline\n",
        "from sklearn.datasets import make_classification\n",
        "from sklearn.model_selection import train_test_split\n"
      ]
    },
    {
      "cell_type": "code",
      "execution_count": 66,
      "metadata": {
        "id": "U_B7J1pfLtIq"
      },
      "outputs": [],
      "source": [
        "# import necessary libraries\n",
        "class MyLogisticRegression:\n",
        "    # Your code goes here!\n",
        "    # This class must have an __init__ method, a loss function, a fit function, and a predict function. You also need to make your code runnable on gpu!\n",
        "    def __init__(self, learning_rate=0.01, num_iterations=10000):\n",
        "        self.learning_rate = learning_rate\n",
        "        self.num_iterations = num_iterations\n",
        "        self.weights = None\n",
        "        self.bias = None\n",
        "\n",
        "    def sigmoid(self, z):\n",
        "        return 1 / (1 + np.exp(-z))\n",
        "\n",
        "    def loss(self, y, y_hat):\n",
        "        return -np.mean(y * np.log(y_hat) + (1 - y) * np.log(1 - y_hat))\n",
        "\n",
        "    def fit(self, X, y):\n",
        "        n_samples, n_features = X.shape\n",
        "        self.weights = np.zeros(n_features)\n",
        "        self.bias = 0\n",
        "\n",
        "        # Gradient Descent\n",
        "        for i in range(self.num_iterations):\n",
        "            model = np.dot(X, self.weights) + self.bias\n",
        "            y_predicted = self.sigmoid(model)\n",
        "\n",
        "            # Compute gradients\n",
        "            dw = (1 / n_samples) * np.dot(X.T, (y_predicted - y))\n",
        "            db = (1 / n_samples) * np.sum(y_predicted - y)\n",
        "\n",
        "            # Update weights and bias\n",
        "            self.weights -= self.learning_rate * dw\n",
        "            self.bias -= self.learning_rate * db\n",
        "\n",
        "    def predict(self, X):\n",
        "        model = np.dot(X, self.weights) + self.bias\n",
        "        y_predicted = self.sigmoid(model)\n",
        "        return [1 if i > 0.5 else 0 for i in y_predicted]\n",
        "    pass"
      ]
    },
    {
      "cell_type": "markdown",
      "metadata": {
        "id": "S-i-oubUlZ6e"
      },
      "source": [
        "**Task:** Test your model on the given dataset. You must split your data into train and test, with a 0.2 split, then normalize your data using X_train data. Finally, report 4 different evaluation metrics of the model on the test set. (You might want to first make the Target column binary!)"
      ]
    },
    {
      "cell_type": "code",
      "execution_count": 6,
      "metadata": {
        "colab": {
          "base_uri": "https://localhost:8080/"
        },
        "id": "0KXzIy_2u-pG",
        "outputId": "709d5ee4-b643-454f-d2cd-c9ed47b5a9ac"
      },
      "outputs": [
        {
          "output_type": "stream",
          "name": "stdout",
          "text": [
            "Accuracy: 0.95\n",
            "Precision: 0.961038961038961\n",
            "Recall: 0.9866666666666667\n",
            "F1 Score: 0.9736842105263157\n"
          ]
        }
      ],
      "source": [
        "# Your code goes here!\n",
        "data = pd.read_csv('Logistic_question.csv')\n",
        "data['Target'] = (data['Target'] >= 0.5).astype(int)\n",
        "\n",
        "# Splitting the dataset\n",
        "X = data.drop('Target', axis=1)\n",
        "y = data['Target']\n",
        "X_train, X_test, y_train, y_test = train_test_split(X, y, test_size=0.2, random_state=40)\n",
        "\n",
        "# Normalizitation\n",
        "scaler = StandardScaler()\n",
        "X_train = scaler.fit_transform(X_train)\n",
        "X_test = scaler.transform(X_test)\n",
        "\n",
        "model = MyLogisticRegression(learning_rate=0.01, num_iterations=5000)\n",
        "model.fit(X_train, y_train)\n",
        "y_pred = model.predict(X_test)\n",
        "\n",
        "accuracy = accuracy_score(y_test, y_pred)\n",
        "precision = precision_score(y_test, y_pred)\n",
        "recall = recall_score(y_test, y_pred)\n",
        "f1 = f1_score(y_test, y_pred)\n",
        "\n",
        "print(\"Accuracy:\", accuracy)\n",
        "print(\"Precision:\", precision)\n",
        "print(\"Recall:\", recall)\n",
        "print(\"F1 Score:\", f1)"
      ]
    },
    {
      "cell_type": "markdown",
      "metadata": {
        "id": "Ji0RXNGKv1pa"
      },
      "source": [
        "**Question:** What are each of your used evaluation metrics? And for each one, mention situations in which they convey more data on the model performance in specific tasks."
      ]
    },
    {
      "cell_type": "markdown",
      "metadata": {
        "id": "ldveD35twRRZ"
      },
      "source": [
        "**Your answer:**\n",
        "\n",
        "### Evaluation Metrics and Their Applicability\n",
        "\n",
        "1. **Accuracy**:\n",
        "   - **Suitable for**: Balanced datasets where the distribution of classes is relatively equal.\n",
        "   - **Conveys**: The overall effectiveness of the model in correctly predicting outcomes for both classes. However, when dealing with imbalanced datasets, relying solely on accuracy might be misleading.\n",
        "\n",
        "2. **Precision**:\n",
        "   - **Suitable for**: Contexts where false positives carry a higher risk or cost.\n",
        "   - **Conveys**: The proportion of positive identifications that were actually correct. Precision is particularly vital in fields like fraud detection or in medical settings where the consequences of false positives (e.g., unnecessary treatments) are significant.\n",
        "\n",
        "3. **Recall (Sensitivity)**:\n",
        "   - **Suitable for**: Situations where missing out on true positives (false negatives) has serious implications.\n",
        "   - **Conveys**: The ability of the model to detect and correctly classify all relevant instances. High recall is essential in areas such as disease screening or security surveillance, where failing to identify true positives can have dire consequences.\n",
        "\n",
        "4. **Specificity (True Negative Rate)**:\n",
        "   - **Suitable for**: Cases where it is critical to minimize false alarms.\n",
        "   - **Conveys**: The accuracy with which a model can identify and classify negative cases. This metric is crucial in environments like manufacturing quality control or spam detection, where false positives can lead to unnecessary follow-up actions or user dissatisfaction."
      ]
    },
    {
      "cell_type": "markdown",
      "metadata": {
        "id": "1ZCeRHZSw-mh"
      },
      "source": [
        "**Task:** Now test the built-in function of Python for Logistic Regression, and report all the same metrics used before."
      ]
    },
    {
      "cell_type": "code",
      "execution_count": 7,
      "metadata": {
        "id": "Vb5lRSQXDLR3",
        "colab": {
          "base_uri": "https://localhost:8080/"
        },
        "outputId": "6ede94cd-9174-48c6-afa2-3f6cf596763f"
      },
      "outputs": [
        {
          "output_type": "stream",
          "name": "stdout",
          "text": [
            "Accuracy: 0.9375\n",
            "Precision: 0.9605263157894737\n",
            "Recall: 0.9733333333333334\n",
            "F1 Score: 0.9668874172185431\n"
          ]
        }
      ],
      "source": [
        "# Your code goes here!\n",
        "\n",
        "data = pd.read_csv('Logistic_question.csv')\n",
        "data['Target'] = (data['Target'] >= 0.5).astype(int)\n",
        "X = data.drop('Target', axis=1)\n",
        "y = data['Target']\n",
        "X_train, X_test, y_train, y_test = train_test_split(X, y, test_size=0.2, random_state=40)\n",
        "scaler = StandardScaler()\n",
        "X_train = scaler.fit_transform(X_train)\n",
        "X_test = scaler.transform(X_test)\n",
        "model = LogisticRegression(max_iter=5000)\n",
        "model.fit(X_train, y_train)\n",
        "\n",
        "# Predictions\n",
        "y_pred = model.predict(X_test)\n",
        "\n",
        "# Evaluation metrics\n",
        "accuracy = accuracy_score(y_test, y_pred)\n",
        "precision = precision_score(y_test, y_pred)\n",
        "recall = recall_score(y_test, y_pred)\n",
        "f1 = f1_score(y_test, y_pred)\n",
        "\n",
        "print(\"Accuracy:\", accuracy)\n",
        "print(\"Precision:\", precision)\n",
        "print(\"Recall:\", recall)\n",
        "print(\"F1 Score:\", f1)"
      ]
    },
    {
      "cell_type": "markdown",
      "metadata": {
        "id": "RCvIymmMy_ji"
      },
      "source": [
        "**Question:** Compare your function with the built-in function. On the matters of performance and parameters. Briefly explain what the parameters of the built-in function are and how they affect the model's performance?"
      ]
    },
    {
      "cell_type": "markdown",
      "metadata": {
        "id": "EY0ohM16z3De"
      },
      "source": [
        "**Your answer:**\n",
        "\n",
        "### Function Comparison and Built-in Function Parameters\n",
        "\n",
        "In the initial training phase of the built-in function without any specific parameters, the model underperformed and showed signs of overfitting. However, after adjusting several parameters including adding a regularization penalty, the model's performance was notably enhanced. Compared to my custom model, the built-in function achieved lower accuracy and recall but excelled in precision and specificity.\n",
        "\n",
        "#### Key Parameters of the Built-in Function:\n",
        "\n",
        "- **penalty**:\n",
        "  - **Purpose**: Adds a regularization term to the loss function to help prevent overfitting.\n",
        "  - **Types**:\n",
        "    - **L1** (Lasso): Encourages sparsity in the coefficients, effectively setting some to zero.\n",
        "    - **L2** (Ridge): Penalizes the sum of the squares of the coefficients, influencing large coefficients.\n",
        "\n",
        "- **C**:\n",
        "  - **Description**: Inverse of regularization strength; smaller values strengthen regularization.\n",
        "  - **Effect**: Controls the trade-off between achieving a low-error model on the training data and minimizing the model complexity for better generalization.\n",
        "\n",
        "- **solver**:\n",
        "  - **Usage**: Specifies the optimization algorithm.\n",
        "  - **Options**:\n",
        "    - **'liblinear'**: Preferred for small datasets.\n",
        "    - **'sag'**, **'saga'**: Better for larger datasets.\n",
        "    - **'lbfgs'**: Versatile and good for a wide range of problems.\n",
        "\n",
        "- **max_iter**:\n",
        "  - **Function**: Sets the maximum number of iterations for the solver to converge.\n",
        "  - **Impact**: Higher values might improve model convergence at the cost of increased computational time.\n",
        "\n",
        "- **class_weight**:\n",
        "  - **Role**: Adjusts weights inversely proportional to class frequencies in the input data.\n",
        "  - **Utility**: Particularly useful in dealing with class imbalance, enhancing model fairness and accuracy on minority classes.\n",
        "\n",
        "- **multi_class**:\n",
        "  - **Options**:\n",
        "    - **'ovr'** (one-vs-rest): Suitable for binary or non-exclusive multiclass scenarios.\n",
        "    - **'multinomial'**: Best for exclusive multiclass problems where each instance belongs to exactly one class.\n",
        "\n",
        "- **random_state**:\n",
        "  - **Purpose**: Controls the randomness of the algorithm, affecting reproducibility.\n",
        "  - **Implication**: A fixed random_state ensures consistent outcomes across different runs of the algorithm."
      ]
    },
    {
      "cell_type": "markdown",
      "metadata": {
        "id": "ClMqoYlr2kr7"
      },
      "source": [
        "# Multinomial Logistic Regression"
      ]
    },
    {
      "cell_type": "markdown",
      "metadata": {
        "id": "ukvlqDe52xP5"
      },
      "source": [
        "**Task:** Implement your own Multinomial Logistic Regression model. Your model must be able to handle any number of labels!"
      ]
    },
    {
      "cell_type": "code",
      "execution_count": 8,
      "metadata": {
        "id": "5Ir-_hFt286t"
      },
      "outputs": [],
      "source": [
        "# import necessary libraries\n",
        "class MyMultinomialLogisticRegression:\n",
        "    # Your code goes here!\n",
        "    def __init__(self, learning_rate=0.01, max_iter=1000, tolerance=1e-5, use_gpu=False):\n",
        "        self.learning_rate = learning_rate\n",
        "        self.max_iter = max_iter\n",
        "        self.tolerance = tolerance\n",
        "        self.weights = None\n",
        "        self.use_gpu = use_gpu\n",
        "\n",
        "    def softmax(self, z):\n",
        "        exp_z = np.exp(z - np.max(z, axis=1, keepdims=True))\n",
        "        return exp_z / np.sum(exp_z, axis=1, keepdims=True)\n",
        "\n",
        "    def cross_entropy_loss(self, y_true, probabilities):\n",
        "        m = y_true.shape[0]\n",
        "        log_likelihood = -np.log(probabilities[np.arange(m), y_true])\n",
        "        return np.sum(log_likelihood) / m\n",
        "\n",
        "    def fit(self, X, y):\n",
        "        X = np.array(X, dtype=np.float32)\n",
        "        y = np.array(y, dtype=np.int32)\n",
        "        m, n = X.shape\n",
        "        n_classes = np.max(y) + 1\n",
        "        X = np.hstack([np.ones((m, 1)), X])\n",
        "        # Initialize weights\n",
        "        self.weights = np.zeros((n + 1, n_classes))\n",
        "        for i in range(self.max_iter):\n",
        "            scores = np.dot(X, self.weights)\n",
        "            probabilities = self.softmax(scores)\n",
        "            y_one_hot = np.eye(n_classes)[y]\n",
        "            gradient = np.dot(X.T, (probabilities - y_one_hot)) / m\n",
        "            self.weights -= self.learning_rate * gradient\n",
        "            if np.linalg.norm(gradient) < self.tolerance:\n",
        "                break\n",
        "\n",
        "    def predict(self, X):\n",
        "        X = np.array(X, dtype=np.float32)\n",
        "        X = np.hstack([np.ones((X.shape[0], 1)), X])\n",
        "        scores = np.dot(X, self.weights)\n",
        "        probabilities = self.softmax(scores)\n",
        "        return np.argmax(probabilities, axis=1)\n",
        "    pass"
      ]
    },
    {
      "cell_type": "markdown",
      "metadata": {
        "id": "zPQ3Rtay3Y2_"
      },
      "source": [
        "**Task:** Test your model on the given dataset. Do the same as the previous part, but here you might want to first make the Target column quantized into $i$ levels. Change $i$ from 2 to 10."
      ]
    },
    {
      "cell_type": "code",
      "execution_count": 9,
      "metadata": {
        "id": "9aP4QJPq29B3",
        "colab": {
          "base_uri": "https://localhost:8080/",
          "height": 888
        },
        "outputId": "142d62b5-0c1e-49e9-e8f7-2fb4f4193e02"
      },
      "outputs": [
        {
          "output_type": "stream",
          "name": "stdout",
          "text": [
            " Quantization Levels  Accuracy  Precision   Recall  F1 Score\n",
            "                   2    0.9375   0.936717 0.938089  0.937255\n",
            "                   3    0.8875   0.886524 0.870951  0.873350\n",
            "                   4    0.7250   0.673447 0.664389  0.659019\n",
            "                   5    0.4875   0.375722 0.451856  0.408756\n",
            "                   6    0.4750   0.460400 0.431395  0.418289\n",
            "                   7    0.3750   0.292848 0.298868  0.259837\n",
            "                   8    0.4500   0.378958 0.408954  0.346160\n",
            "                   9    0.4125   0.453217 0.408270  0.362491\n",
            "                  10    0.2250   0.117794 0.191111  0.141522\n"
          ]
        },
        {
          "output_type": "display_data",
          "data": {
            "text/plain": [
              "<Figure size 800x800 with 1 Axes>"
            ],
            "image/png": "[encoded data removed]"
          },
          "metadata": {}
        }
      ],
      "source": [
        "# Your code goes here!\n",
        "\n",
        "df = pd.read_csv('Logistic_question.csv')\n",
        "i_levels = range(2, 11)\n",
        "results = []\n",
        "\n",
        "for i in i_levels:\n",
        "\n",
        "    df['Quantized_Target'] = pd.qcut(df['Target'], q=i, labels=False)\n",
        "    X = df.drop(['Target', 'Quantized_Target'], axis=1)\n",
        "    y = df['Quantized_Target']\n",
        "    X_train, X_test, y_train, y_test = train_test_split(X, y, test_size=0.2, random_state=42)\n",
        "\n",
        "    # Normalize\n",
        "    scaler = StandardScaler()\n",
        "    X_train = scaler.fit_transform(X_train)\n",
        "    X_test = scaler.transform(X_test)\n",
        "    model = MyMultinomialLogisticRegression()\n",
        "    model.fit(X_train, y_train)\n",
        "\n",
        "    predictions = model.predict(X_test)\n",
        "\n",
        "    accuracy = accuracy_score(y_test, predictions)\n",
        "    precision = precision_score(y_test, predictions, average='macro', zero_division=0)\n",
        "    recall = recall_score(y_test, predictions, average='macro', zero_division=0)\n",
        "    f1 = f1_score(y_test, predictions, average='macro', zero_division=0)\n",
        "\n",
        "    results.append({\n",
        "        'Quantization Levels': i,\n",
        "        'Accuracy': accuracy,\n",
        "        'Precision': precision,\n",
        "        'Recall': recall,\n",
        "        'F1 Score': f1\n",
        "    })\n",
        "\n",
        "results_df = pd.DataFrame(results)\n",
        "print(results_df.to_string(index=False))\n",
        "\n",
        "\n",
        "plt.figure(figsize=(8, 8))\n",
        "for metric in ['Accuracy', 'Precision', 'Recall', 'F1 Score']:\n",
        "    plt.plot(results_df['Quantization Levels'], results_df[metric], label=metric)\n",
        "plt.xlabel('Quantization Levels')\n",
        "plt.ylabel('Metric Values')\n",
        "plt.title('Model Performance at Different Quantization Levels')\n",
        "plt.legend()\n",
        "plt.grid(True)\n",
        "plt.show()"
      ]
    },
    {
      "cell_type": "markdown",
      "metadata": {
        "id": "Of2sHl5Z4dXi"
      },
      "source": [
        "**Question:** Report for which $i$ your model performs best. Describe and analyze the results! You could use visualizations or any other method!"
      ]
    },
    {
      "cell_type": "markdown",
      "metadata": {
        "id": "cRLERDAr4wnS"
      },
      "source": [
        "**Your answer:**\n",
        "\n",
        "### Analysis of Model Performance Across Different $i$ Values\n",
        "\n",
        "The analysis, supported by visual data, indicates that the model delivers its most robust performance at $i = 4$. There is a discernible trend where increasing $i$ results in a reduction in accuracy. However, this metric alone isn't a comprehensive measure of performance.\n",
        "\n",
        "**Highlights for $i = 4**:\n",
        "- The model not only shows high accuracy but also excels in other crucial metrics:\n",
        "  - **Precision**: High precision indicates that the model accurately predicts positive classes.\n",
        "  - **Recall**: The model successfully identifies a large proportion of actual positives.\n",
        "  - **Specificity**: It effectively recognizes negatives, which is critical in avoiding false positives.\n",
        "\n",
        "This multi-metric evaluation underscores the superior performance of the model when $i = 4$, suggesting a balanced approach to various types of errors."
      ]
    },
    {
      "cell_type": "markdown",
      "metadata": {
        "id": "wT43jGKV6CBZ"
      },
      "source": [
        "# Going a little further!"
      ]
    },
    {
      "cell_type": "markdown",
      "metadata": {
        "id": "Vo9uGo0R6GZo"
      },
      "source": [
        "First we download Adult income dataset from Kaggle! In order to do this create an account on this website, and create an API. A file named kaggle.json will be downloaded to your device. Then use the following code:"
      ]
    },
    {
      "cell_type": "code",
      "execution_count": 12,
      "metadata": {
        "colab": {
          "base_uri": "https://localhost:8080/",
          "height": 69
        },
        "id": "o-vrjYBF7u1E",
        "outputId": "98f42c74-ab2d-45a2-d814-9c10aee3a176"
      },
      "outputs": [
        {
          "output_type": "display_data",
          "data": {
            "text/plain": [
              "<IPython.core.display.HTML object>"
            ],
            "text/html": [
              "\n",
              "     <input type=\"file\" id=\"files-425d068b-5339-42ee-9abf-3956bdfb1725\" name=\"files[]\" multiple disabled\n",
              "        style=\"border:none\" />\n",
              "     <output id=\"result-425d068b-5339-42ee-9abf-3956bdfb1725\">\n",
              "      Upload widget is only available when the cell has been executed in the\n",
              "      current browser session. Please rerun this cell to enable.\n",
              "      </output>\n",
              "      <script>// Copyright 2017 Google LLC\n",
              "//\n",
              "// Licensed under the Apache License, Version 2.0 (the \"License\");\n",
              "// you may not use this file except in compliance with the License.\n",
              "// You may obtain a copy of the License at\n",
              "//\n",
              "//      http://www.apache.org/licenses/LICENSE-2.0\n",
              "//\n",
              "// Unless required by applicable law or agreed to in writing, software\n",
              "// distributed under the License is distributed on an \"AS IS\" BASIS,\n",
              "// WITHOUT WARRANTIES OR CONDITIONS OF ANY KIND, either express or implied.\n",
              "// See the License for the specific language governing permissions and\n",
              "// limitations under the License.\n",
              "\n",
              "/**\n",
              " * @fileoverview Helpers for google.colab Python module.\n",
              " */\n",
              "(function(scope) {\n",
              "function span(text, styleAttributes = {}) {\n",
              "  const element = document.createElement('span');\n",
              "  element.textContent = text;\n",
              "  for (const key of Object.keys(styleAttributes)) {\n",
              "    element.style[key] = styleAttributes[key];\n",
              "  }\n",
              "  return element;\n",
              "}\n",
              "\n",
              "// Max number of bytes which will be uploaded at a time.\n",
              "const MAX_PAYLOAD_SIZE = 100 * 1024;\n",
              "\n",
              "function _uploadFiles(inputId, outputId) {\n",
              "  const steps = uploadFilesStep(inputId, outputId);\n",
              "  const outputElement = document.getElementById(outputId);\n",
              "  // Cache steps on the outputElement to make it available for the next call\n",
              "  // to uploadFilesContinue from Python.\n",
              "  outputElement.steps = steps;\n",
              "\n",
              "  return _uploadFilesContinue(outputId);\n",
              "}\n",
              "\n",
              "// This is roughly an async generator (not supported in the browser yet),\n",
              "// where there are multiple asynchronous steps and the Python side is going\n",
              "// to poll for completion of each step.\n",
              "// This uses a Promise to block the python side on completion of each step,\n",
              "// then passes the result of the previous step as the input to the next step.\n",
              "function _uploadFilesContinue(outputId) {\n",
              "  const outputElement = document.getElementById(outputId);\n",
              "  const steps = outputElement.steps;\n",
              "\n",
              "  const next = steps.next(outputElement.lastPromiseValue);\n",
              "  return Promise.resolve(next.value.promise).then((value) => {\n",
              "    // Cache the last promise value to make it available to the next\n",
              "    // step of the generator.\n",
              "    outputElement.lastPromiseValue = value;\n",
              "    return next.value.response;\n",
              "  });\n",
              "}\n",
              "\n",
              "/**\n",
              " * Generator function which is called between each async step of the upload\n",
              " * process.\n",
              " * @param {string} inputId Element ID of the input file picker element.\n",
              " * @param {string} outputId Element ID of the output display.\n",
              " * @return {!Iterable<!Object>} Iterable of next steps.\n",
              " */\n",
              "function* uploadFilesStep(inputId, outputId) {\n",
              "  const inputElement = document.getElementById(inputId);\n",
              "  inputElement.disabled = false;\n",
              "\n",
              "  const outputElement = document.getElementById(outputId);\n",
              "  outputElement.innerHTML = '';\n",
              "\n",
              "  const pickedPromise = new Promise((resolve) => {\n",
              "    inputElement.addEventListener('change', (e) => {\n",
              "      resolve(e.target.files);\n",
              "    });\n",
              "  });\n",
              "\n",
              "  const cancel = document.createElement('button');\n",
              "  inputElement.parentElement.appendChild(cancel);\n",
              "  cancel.textContent = 'Cancel upload';\n",
              "  const cancelPromise = new Promise((resolve) => {\n",
              "    cancel.onclick = () => {\n",
              "      resolve(null);\n",
              "    };\n",
              "  });\n",
              "\n",
              "  // Wait for the user to pick the files.\n",
              "  const files = yield {\n",
              "    promise: Promise.race([pickedPromise, cancelPromise]),\n",
              "    response: {\n",
              "      action: 'starting',\n",
              "    }\n",
              "  };\n",
              "\n",
              "  cancel.remove();\n",
              "\n",
              "  // Disable the input element since further picks are not allowed.\n",
              "  inputElement.disabled = true;\n",
              "\n",
              "  if (!files) {\n",
              "    return {\n",
              "      response: {\n",
              "        action: 'complete',\n",
              "      }\n",
              "    };\n",
              "  }\n",
              "\n",
              "  for (const file of files) {\n",
              "    const li = document.createElement('li');\n",
              "    li.append(span(file.name, {fontWeight: 'bold'}));\n",
              "    li.append(span(\n",
              "        `(${file.type || 'n/a'}) - ${file.size} bytes, ` +\n",
              "        `last modified: ${\n",
              "            file.lastModifiedDate ? file.lastModifiedDate.toLocaleDateString() :\n",
              "                                    'n/a'} - `));\n",
              "    const percent = span('0% done');\n",
              "    li.appendChild(percent);\n",
              "\n",
              "    outputElement.appendChild(li);\n",
              "\n",
              "    const fileDataPromise = new Promise((resolve) => {\n",
              "      const reader = new FileReader();\n",
              "      reader.onload = (e) => {\n",
              "        resolve(e.target.result);\n",
              "      };\n",
              "      reader.readAsArrayBuffer(file);\n",
              "    });\n",
              "    // Wait for the data to be ready.\n",
              "    let fileData = yield {\n",
              "      promise: fileDataPromise,\n",
              "      response: {\n",
              "        action: 'continue',\n",
              "      }\n",
              "    };\n",
              "\n",
              "    // Use a chunked sending to avoid message size limits. See b/62115660.\n",
              "    let position = 0;\n",
              "    do {\n",
              "      const length = Math.min(fileData.byteLength - position, MAX_PAYLOAD_SIZE);\n",
              "      const chunk = new Uint8Array(fileData, position, length);\n",
              "      position += length;\n",
              "\n",
              "      const base64 = btoa(String.fromCharCode.apply(null, chunk));\n",
              "      yield {\n",
              "        response: {\n",
              "          action: 'append',\n",
              "          file: file.name,\n",
              "          data: base64,\n",
              "        },\n",
              "      };\n",
              "\n",
              "      let percentDone = fileData.byteLength === 0 ?\n",
              "          100 :\n",
              "          Math.round((position / fileData.byteLength) * 100);\n",
              "      percent.textContent = `${percentDone}% done`;\n",
              "\n",
              "    } while (position < fileData.byteLength);\n",
              "  }\n",
              "\n",
              "  // All done.\n",
              "  yield {\n",
              "    response: {\n",
              "      action: 'complete',\n",
              "    }\n",
              "  };\n",
              "}\n",
              "\n",
              "scope.google = scope.google || {};\n",
              "scope.google.colab = scope.google.colab || {};\n",
              "scope.google.colab._files = {\n",
              "  _uploadFiles,\n",
              "  _uploadFilesContinue,\n",
              "};\n",
              "})(self);\n",
              "</script> "
            ]
          },
          "metadata": {}
        },
        {
          "output_type": "stream",
          "name": "stdout",
          "text": [
            "Saving kaggle.json to kaggle.json\n"
          ]
        }
      ],
      "source": [
        "from google.colab import files\n",
        "files.upload()  # Use this to select the kaggle.json file from your computer\n",
        "!mkdir -p ~/.kaggle\n",
        "!cp kaggle.json ~/.kaggle/\n",
        "!chmod 600 ~/.kaggle/kaggle.json"
      ]
    },
    {
      "cell_type": "markdown",
      "metadata": {
        "id": "5i6u6_1v8ftX"
      },
      "source": [
        "Then use this code to automatically download the dataset into Colab."
      ]
    },
    {
      "cell_type": "code",
      "execution_count": 13,
      "metadata": {
        "colab": {
          "base_uri": "https://localhost:8080/"
        },
        "id": "XjyVaVKF29Hx",
        "outputId": "d8403e9b-be12-4e95-eb6a-e9a11d8cb56d"
      },
      "outputs": [
        {
          "output_type": "stream",
          "name": "stdout",
          "text": [
            "Downloading adult-income-dataset.zip to /content\n",
            "100% 652k/652k [00:00<00:00, 1.05MB/s]\n",
            "100% 652k/652k [00:00<00:00, 1.05MB/s]\n",
            "Archive:  /content/adult-income-dataset.zip\n",
            "  inflating: adult.csv               \n"
          ]
        }
      ],
      "source": [
        "!kaggle datasets download -d wenruliu/adult-income-dataset\n",
        "!unzip /content/adult-income-dataset.zip"
      ]
    },
    {
      "cell_type": "markdown",
      "metadata": {
        "id": "EXQnbZwt8rJK"
      },
      "source": [
        "**Task:** Determine the number of null entries!"
      ]
    },
    {
      "cell_type": "code",
      "execution_count": 14,
      "metadata": {
        "colab": {
          "base_uri": "https://localhost:8080/"
        },
        "id": "JtuEx6QW29c1",
        "outputId": "d7c71eb5-7187-498c-de34-c949bdde9359"
      },
      "outputs": [
        {
          "output_type": "stream",
          "name": "stdout",
          "text": [
            "The number of null entries in the dataset: 6465\n"
          ]
        }
      ],
      "source": [
        "# Your code goes here!$\n",
        "\n",
        "import pandas as pd\n",
        "\n",
        "# Load the dataset\n",
        "df = pd.read_csv('/content/adult.csv')\n",
        "df.replace(\"?\",np.nan,inplace=True)\n",
        "\n",
        "# Determine the number of null entries\n",
        "null_entries = df.isnull().sum().sum()\n",
        "print(f'The number of null entries in the dataset: {null_entries}')\n",
        "\n"
      ]
    },
    {
      "cell_type": "markdown",
      "metadata": {
        "id": "JpEcBdTUAYVN"
      },
      "source": [
        "**Question:** In many widely used datasets there are a lot of null entries. Propose 5 methods by which, one could deal with this problem. Briefly explain how do you decide which one to use in this problem."
      ]
    },
    {
      "cell_type": "markdown",
      "metadata": {
        "id": "l1u1pBHuAsSg"
      },
      "source": [
        "**Your answer:**\n",
        "\n",
        "### Strategies for Handling Null Values in Datasets\n",
        "\n",
        "Addressing null entries is a vital part of data preprocessing. Here are five strategies to manage null values effectively:\n",
        "\n",
        "1. **Remove Null Entries**:\n",
        "   - **Description**: Eliminate rows or columns that contain null values.\n",
        "   - **When to Use**: Applicable when the dataset is large enough to remain representative even after removing these entries, particularly when the missing data is minimal or not critical.\n",
        "\n",
        "2. **Imputation**:\n",
        "   - **Description**: Substitute null values with a statistical value (mean, median, mode) or a constant.\n",
        "   - **When to Use**: Best used when the data points with missing values are crucial, or when removing data might bias the results. It’s effective in scenarios where the missing data is not significantly biased.\n",
        "\n",
        "3. **Forward or Backward Fill**:\n",
        "   - **Description**: Replace null values using the next or previous value in the data sequence.\n",
        "   - **When to Use**: This method is particularly useful in time series or other sequentially indexed data where patterns can reasonably extend from adjacent data points.\n",
        "\n",
        "4. **Predictive Model Imputation**:\n",
        "   - **Description**: Employ machine learning models like K-nearest neighbors (KNN) or decision trees to estimate and fill in missing values.\n",
        "   - **When to Use**: Suitable for complex datasets where patterns can predict missing values, especially when other features correlate well with the missing data.\n",
        "\n",
        "5. **Advanced Imputation Techniques**:\n",
        "   - **Description**: Implement sophisticated methods such as matrix factorization, iterative imputation, or models based on deep learning.\n",
        "   - **When to Use**: These techniques are ideal for handling intricate patterns of missing data where simpler methods fail to provide adequate solutions.\n",
        "\n",
        "### Selection Criteria for Null Handling Methods\n",
        "\n",
        "The choice of method depends on several factors:\n",
        "- **Size and Nature of the Dataset**: Larger datasets might withstand the removal of some missing data without losing significant information.\n",
        "- **Importance of Retaining Rows/Columns**: Critical data should be imputed rather than removed.\n",
        "- **Data Distribution and Correlation**: Methods like predictive model imputation are chosen when there is a strong correlation between the missing values and other variables.\n",
        "- **Sequential Dependency**: Forward or backward filling is particularly useful if there’s a chronological sequence in the data.\n",
        "\n",
        "By considering these aspects, one can choose the most appropriate method to handle null values in their dataset."
      ]
    },
    {
      "cell_type": "markdown",
      "metadata": {
        "id": "eHhH-hkpAxFf"
      },
      "source": [
        "**Task:** Handle null entries using your best method."
      ]
    },
    {
      "cell_type": "code",
      "execution_count": 15,
      "metadata": {
        "colab": {
          "base_uri": "https://localhost:8080/"
        },
        "id": "5fVwWcjK29fk",
        "outputId": "5c007b07-bb2f-442c-fbac-43654bd5fa8b"
      },
      "outputs": [
        {
          "output_type": "stream",
          "name": "stdout",
          "text": [
            "Size of the dataset before dropping null entries: (48842, 15)\n",
            "Size of the dataset after dropping null entries: (45222, 15)\n"
          ]
        }
      ],
      "source": [
        "# Your code goes here!\n",
        "\n",
        "\n",
        "# Load your dataset\n",
        "df = pd.read_csv('/content/adult.csv')\n",
        "\n",
        "# Replace \"?\" with NaN\n",
        "df.replace(\"?\", np.nan, inplace=True)\n",
        "\n",
        "# Size of the dataset before dropping null entries\n",
        "initial_size = df.shape\n",
        "print(\"Size of the dataset before dropping null entries:\", initial_size)\n",
        "\n",
        "# Drop rows with any null values\n",
        "df_cleaned = df.dropna()\n",
        "\n",
        "# Size of the dataset after dropping null entries\n",
        "cleaned_size = df_cleaned.shape\n",
        "print(\"Size of the dataset after dropping null entries:\", cleaned_size)\n"
      ]
    },
    {
      "cell_type": "markdown",
      "metadata": {
        "id": "43k5cTorCJaV"
      },
      "source": [
        "**Task:** Convert categorical features to numerical values. Split the dataset with 80-20 portion. Normalize all the data using X_train. Use the built-in Logistic Regression function and GridSearchCV to train your model, and report the parameters, train and test accuracy of the best model."
      ]
    },
    {
      "cell_type": "code",
      "execution_count": 16,
      "metadata": {
        "colab": {
          "base_uri": "https://localhost:8080/"
        },
        "id": "Agj18Lcd-vyZ",
        "outputId": "09ec84b0-f6fa-4246-c43a-6c95e8f134b8"
      },
      "outputs": [
        {
          "output_type": "stream",
          "name": "stdout",
          "text": [
            "Best Parameters: {'classifier__C': 0.1, 'classifier__penalty': 'l2'}\n",
            "Best Training Accuracy: 0.8518413150535622\n",
            "Test Accuracy: 0.8560753403623708\n"
          ]
        }
      ],
      "source": [
        "# Your code goes here!\n",
        "\n",
        "\n",
        "\n",
        "df = pd.read_csv('/content/adult.csv')\n",
        "df.replace(\"?\", np.nan, inplace=True)\n",
        "df_cleaned = df.dropna()\n",
        "categorical_features = ['workclass', 'education', 'marital-status', 'occupation',\n",
        "                        'relationship', 'race', 'gender', 'native-country']\n",
        "numerical_features = ['age', 'fnlwgt', 'educational-num', 'capital-gain',\n",
        "                      'capital-loss', 'hours-per-week']\n",
        "\n",
        "numeric_transformer = StandardScaler()\n",
        "categorical_transformer = OneHotEncoder(handle_unknown='ignore')\n",
        "\n",
        "preprocessor = ColumnTransformer(\n",
        "    transformers=[\n",
        "        ('num', numeric_transformer, numerical_features),\n",
        "        ('cat', categorical_transformer, categorical_features)])\n",
        "\n",
        "X = df.drop('income', axis=1)\n",
        "y = df['income'].apply(lambda x: 1 if x == '>50K' else 0)\n",
        "\n",
        "X_train, X_test, y_train, y_test = train_test_split(X, y, test_size=0.20, random_state=42)\n",
        "model_pipeline = Pipeline(steps=[('preprocessor', preprocessor),\n",
        "                                 ('classifier', LogisticRegression(solver='liblinear'))])\n",
        "\n",
        "param_grid = {\n",
        "    'classifier__C': [0.1, 1, 10, 100],\n",
        "    'classifier__penalty': ['l1', 'l2']\n",
        "}\n",
        "grid_search = GridSearchCV(model_pipeline, param_grid, scoring='accuracy', cv=5)\n",
        "grid_search.fit(X_train, y_train)\n",
        "\n",
        "best_parameters = grid_search.best_params_\n",
        "best_accuracy = grid_search.best_score_\n",
        "print(f\"Best Parameters: {best_parameters}\")\n",
        "print(f\"Best Training Accuracy: {best_accuracy}\")\n",
        "y_pred = grid_search.predict(X_test)\n",
        "test_accuracy = accuracy_score(y_test, y_pred)\n",
        "print(f\"Test Accuracy: {test_accuracy}\")\n"
      ]
    },
    {
      "cell_type": "markdown",
      "metadata": {
        "id": "6Lzr2lqXDQ1T"
      },
      "source": [
        "**Task:** To try a different route, split X_train into $i$ parts, and train $i$ separate models on these parts. Now propose and implement 3 different *ensemble methods* to derive the global models' prediction for X_test using the results(not necessarily predictions!) of the $i$ models. Firstly, set $i=10$ to find the method with the best test accuracy(the answer is not general!). You must Use your own Logistic Regression model.(You might want to modify it a little bit for this part!)"
      ]
    },
    {
      "cell_type": "code",
      "source": [
        "from sklearn.base import BaseEstimator, ClassifierMixin\n",
        "from scipy.special import expit\n",
        "\n",
        "class MyLogisticRegression(BaseEstimator, ClassifierMixin):\n",
        "    def __init__(self, learning_rate=0.01, num_iterations=10000):\n",
        "        self.learning_rate = learning_rate\n",
        "        self.num_iterations = num_iterations\n",
        "        self.weights = None\n",
        "        self.bias = None\n",
        "\n",
        "    def sigmoid(self, z):\n",
        "        return expit(z)\n",
        "\n",
        "    def fit(self, X, y):\n",
        "        # Convert X to dense if it's a sparse matrix\n",
        "        if hasattr(X, \"toarray\"):\n",
        "            X = X.toarray()\n",
        "\n",
        "        n_samples, n_features = X.shape\n",
        "        self.weights = np.zeros(n_features)\n",
        "        self.bias = 0\n",
        "\n",
        "        for i in range(self.num_iterations):\n",
        "            linear_model = np.dot(X, self.weights) + self.bias\n",
        "            y_predicted = self.sigmoid(linear_model)\n",
        "            dw = (1 / n_samples) * np.dot(X.T, (y_predicted - y))\n",
        "            db = (1 / n_samples) * np.sum(y_predicted - y)\n",
        "\n",
        "            self.weights -= self.learning_rate * dw\n",
        "            self.bias -= self.learning_rate * db\n",
        "        return self\n",
        "\n",
        "    def predict(self, X):\n",
        "        if hasattr(X, \"toarray\"):\n",
        "            X = X.toarray()\n",
        "        linear_model = np.dot(X, self.weights) + self.bias\n",
        "        y_predicted = self.sigmoid(linear_model)\n",
        "        return np.array([1 if i > 0.5 else 0 for i in y_predicted])\n",
        "\n",
        "    def predict_proba(self, X):\n",
        "        if hasattr(X, \"toarray\"):\n",
        "            X = X.toarray()\n",
        "        linear_model = np.dot(X, self.weights) + self.bias\n",
        "        y_predicted = self.sigmoid(linear_model)\n",
        "        return np.vstack([1 - y_predicted, y_predicted]).T"
      ],
      "metadata": {
        "id": "g7VmRqvNNr6A"
      },
      "execution_count": 69,
      "outputs": []
    },
    {
      "cell_type": "code",
      "execution_count": 49,
      "metadata": {
        "id": "K9D1jlstF9nF",
        "colab": {
          "base_uri": "https://localhost:8080/"
        },
        "outputId": "534b1e51-d084-4e55-e6fd-e846517484e6"
      },
      "outputs": [
        {
          "output_type": "stream",
          "name": "stdout",
          "text": [
            "Ensemble Method 1 Accuracy: 0.8525949431876344\n",
            "Ensemble Method 2 Accuracy: 0.8521854846964889\n",
            "Ensemble Method 3 Accuracy: 0.8506500153546934\n",
            "Best Ensemble Method: 1\n",
            "Best Accuracy: 0.8525949431876344\n"
          ]
        }
      ],
      "source": [
        "# Your code goes here!\n",
        "\n",
        "from sklearn.base import clone\n",
        "\n",
        "\n",
        "categorical_features = ['workclass', 'education', 'marital-status', 'occupation',\n",
        "                        'relationship', 'race', 'gender', 'native-country']\n",
        "numerical_features = ['age', 'fnlwgt', 'educational-num', 'capital-gain',\n",
        "                      'capital-loss', 'hours-per-week']\n",
        "\n",
        "numeric_transformer = Pipeline(steps=[\n",
        "    ('scaler', StandardScaler())\n",
        "])\n",
        "\n",
        "categorical_transformer = Pipeline(steps=[\n",
        "    ('onehot', OneHotEncoder(handle_unknown='ignore'))\n",
        "])\n",
        "\n",
        "preprocessor = ColumnTransformer(\n",
        "    transformers=[\n",
        "        ('num', numeric_transformer, numerical_features),\n",
        "        ('cat', categorical_transformer, categorical_features)\n",
        "    ])\n",
        "\n",
        "clf = Pipeline(steps=[\n",
        "    ('preprocessor', preprocessor),\n",
        "    ('classifier', MyLogisticRegression())\n",
        "])\n",
        "\n",
        "X_train, X_test, y_train, y_test = train_test_split(X, y, test_size=0.2, random_state=42)\n",
        "\n",
        "i = 10\n",
        "X_train_parts = np.array_split(X_train, i)\n",
        "y_train_parts = np.array_split(y_train, i)\n",
        "\n",
        "\n",
        "models = []\n",
        "for j in range(i):\n",
        "    model = clone(clf)\n",
        "    if X_train_parts[j].size > 0:\n",
        "        model.fit(X_train_parts[j], y_train_parts[j])\n",
        "        models.append(model)\n",
        "    else:\n",
        "        print(f\"Skipping part {j} because it is empty.\")\n",
        "\n",
        "# Ensemble Methods\n",
        "def majority_voting(models, X_test):\n",
        "    predictions = np.sum([model.predict(X_test) for model in models], axis=0)\n",
        "    return (predictions >= len(models) / 2).astype(int)\n",
        "\n",
        "def weighted_voting(models, X_test, y_test):\n",
        "    weights = [accuracy_score(model.predict(X_test), y_test) for model in models]\n",
        "    predictions = np.sum([weight * model.predict(X_test) for model, weight in zip(models, weights)], axis=0)\n",
        "    return (predictions >= np.sum(weights) / 2).astype(int)\n",
        "\n",
        "def averaging(models, X_test):\n",
        "    predictions = np.mean([model.predict_proba(X_test)[:, 1] for model in models], axis=0)\n",
        "    return (predictions >= 0.5).astype(int)\n",
        "\n",
        "ensemble_predictions1 = majority_voting(models, X_test)\n",
        "ensemble_predictions2 = weighted_voting(models, X_test, y_test)\n",
        "ensemble_predictions3 = averaging(models, X_test)\n",
        "\n",
        "# Evaluate and print results\n",
        "accuracy1 = accuracy_score(ensemble_predictions1, y_test)\n",
        "accuracy2 = accuracy_score(ensemble_predictions2, y_test)\n",
        "accuracy3 = accuracy_score(ensemble_predictions3, y_test)\n",
        "\n",
        "print(\"Ensemble Method 1 Accuracy:\", accuracy1)\n",
        "print(\"Ensemble Method 2 Accuracy:\", accuracy2)\n",
        "print(\"Ensemble Method 3 Accuracy:\", accuracy3)\n",
        "print(\"Best Ensemble Method:\", np.argmax([accuracy1, accuracy2, accuracy3]) + 1)\n",
        "print(\"Best Accuracy:\", max(accuracy1, accuracy2, accuracy3))\n"
      ]
    },
    {
      "cell_type": "markdown",
      "metadata": {
        "id": "9QS9HYJ5FW1T"
      },
      "source": [
        "**Question:** Explain your proposed methods and the reason you decided to use them!"
      ]
    },
    {
      "cell_type": "markdown",
      "metadata": {
        "id": "6hCBQuAeF46a"
      },
      "source": [
        "**Your answer:**\n",
        "\n",
        "\n",
        "We have partitioned our training dataset X_train into 10 parts and trained 10 separate logistic regression models on each segment. This method allows each model to learn from a unique subset of the data. To make predictions on X_test, we propose three ensemble methods to aggregate these models' outputs: (I have used them since they are the most commonly used methods)\n",
        "\n",
        "**Majority Voting**:\n",
        "In Majority Voting, each model votes for its predicted class, and the class receiving the majority of votes is selected as the final prediction. This approach is simple and typically robust against the errors of individual models.\n",
        "\n",
        "**Weighted Voting**:\n",
        "Weighted Voting is similar to Majority Voting but incorporates a weight for each model's vote based on its accuracy. This allows models that perform better to have a greater impact on the final decision, potentially improving overall prediction accuracy.\n",
        "\n",
        "**Averaging**:\n",
        "The Averaging method computes the mean of the predictions from all models. This method is effective when the models are diverse and their errors are uncorrelated, leading to a reduction in variance and potentially smoother predictions.\n",
        "\n",
        "\n",
        "\n"
      ]
    },
    {
      "cell_type": "markdown",
      "metadata": {
        "id": "jjSREvg4FTHf"
      },
      "source": [
        "**Task:** Now, for your best method, change $i$ from 2 to 100 and report $i$, train and test accuracy of the best model. Also, plot test and train accuracy for $2\\leq i\\leq100$."
      ]
    },
    {
      "cell_type": "code",
      "execution_count": 94,
      "metadata": {
        "id": "tfKS-Jq0-v4P",
        "colab": {
          "base_uri": "https://localhost:8080/",
          "height": 1000
        },
        "outputId": "63bdfc86-99b5-41aa-e44a-a23838a3defb"
      },
      "outputs": [
        {
          "output_type": "stream",
          "name": "stdout",
          "text": [
            "2\n",
            "3\n",
            "4\n",
            "5\n",
            "6\n",
            "7\n",
            "8\n",
            "9\n",
            "10\n",
            "11\n",
            "12\n",
            "13\n",
            "14\n",
            "15\n",
            "16\n",
            "17\n",
            "18\n",
            "19\n",
            "20\n",
            "21\n",
            "22\n",
            "23\n",
            "24\n",
            "25\n",
            "26\n",
            "27\n",
            "28\n",
            "29\n",
            "30\n",
            "31\n",
            "32\n",
            "33\n",
            "34\n",
            "35\n",
            "36\n",
            "37\n",
            "38\n",
            "39\n",
            "40\n",
            "41\n",
            "42\n",
            "43\n",
            "44\n",
            "45\n",
            "46\n",
            "47\n",
            "48\n",
            "49\n",
            "50\n",
            "51\n",
            "52\n",
            "53\n",
            "54\n",
            "55\n",
            "56\n",
            "57\n",
            "58\n",
            "59\n",
            "60\n",
            "61\n",
            "62\n",
            "63\n",
            "64\n",
            "65\n",
            "66\n",
            "67\n",
            "68\n",
            "69\n",
            "70\n",
            "71\n",
            "72\n",
            "73\n",
            "74\n",
            "75\n",
            "76\n",
            "77\n",
            "78\n",
            "79\n",
            "80\n",
            "81\n",
            "82\n",
            "83\n",
            "84\n",
            "85\n",
            "86\n",
            "87\n",
            "88\n",
            "89\n",
            "90\n",
            "91\n",
            "92\n",
            "93\n",
            "94\n",
            "95\n",
            "96\n",
            "97\n",
            "98\n",
            "99\n",
            "100\n",
            "Best Model\n",
            "i: 33\n",
            "Train Accuracy: 0.7739615591329051\n",
            "Test Accuracy: 0.769781963353465\n"
          ]
        },
        {
          "output_type": "display_data",
          "data": {
            "text/plain": [
              "<Figure size 1000x600 with 1 Axes>"
            ],
            "image/png": "[encoded data removed]"
          },
          "metadata": {}
        }
      ],
      "source": [
        "X_transformed = preprocessor.fit_transform(X)\n",
        "X_train, X_test, y_train, y_test = train_test_split(X_transformed, y, test_size=0.2)\n",
        "\n",
        "num_models = 100\n",
        "train_accuracies = []\n",
        "test_accuracies = []\n",
        "\n",
        "for i in range(2, num_models + 1):\n",
        "    print(i)\n",
        "    row_indices = np.arange(X_train.shape[0])\n",
        "    index_splits = np.array_split(row_indices, i)\n",
        "    y_train_parts = np.array_split(y_train, i)\n",
        "\n",
        "    models = []\n",
        "    for index_part in index_splits:\n",
        "      #reduced to be faster\n",
        "        model = MyLogisticRegression(learning_rate=0.01, num_iterations=10)\n",
        "        if index_part.size > 0:\n",
        "            model.fit(X_train[index_part], y_train_parts[len(models)])\n",
        "            models.append(model)\n",
        "\n",
        "    test_predictions = np.mean([model.predict(X_test) for model in models], axis=0)\n",
        "    train_predictions = np.mean([model.predict(X_train) for model in models], axis=0)\n",
        "\n",
        "    test_predicted_classes = np.round(test_predictions).astype(int)\n",
        "    train_predicted_classes = np.round(train_predictions).astype(int)\n",
        "\n",
        "    train_accuracy = accuracy_score(y_train, train_predicted_classes)\n",
        "    test_accuracy = accuracy_score(y_test, test_predicted_classes)\n",
        "\n",
        "    train_accuracies.append(train_accuracy)\n",
        "    test_accuracies.append(test_accuracy)\n",
        "\n",
        "# Find the best model after the loop completes\n",
        "best_i = np.argmax(test_accuracies) + 2\n",
        "print(\"Best Model\")\n",
        "print(\"i:\", best_i)\n",
        "print(\"Train Accuracy:\", train_accuracies[best_i - 2])\n",
        "print(\"Test Accuracy:\", test_accuracies[best_i - 2])\n",
        "\n",
        "plt.figure(figsize=(10, 6))\n",
        "plt.plot(range(2, num_models + 1), train_accuracies, label='Train Accuracy')\n",
        "plt.plot(range(2, num_models + 1), test_accuracies, label='Test Accuracy')\n",
        "plt.xlabel('i')\n",
        "plt.ylabel('Accuracy')\n",
        "plt.title('Train and Test Accuracy vs. i')\n",
        "plt.legend()\n",
        "plt.show()\n"
      ]
    },
    {
      "cell_type": "markdown",
      "metadata": {
        "id": "BWV0YUgRGg1p"
      },
      "source": [
        "**Question:** Analyze the results."
      ]
    },
    {
      "cell_type": "markdown",
      "metadata": {
        "id": "cAkdmm04LtI3"
      },
      "source": [
        "**Your Answer:**\n",
        "\n",
        "we can see the following points:\n",
        "\n",
        "**Consistency in Train Accuracy**: Training accuracy remains relatively stable regardless of the number of models, indicating no clear benefit from increasing the ensemble size.\n",
        "\n",
        "**Volatility in Test Accuracy**: Test accuracy fluctuates significantly, suggesting that additional models do not consistently improve generalization.\n",
        "\n",
        "**No Clear Optimal i**: The graph does not present an obvious choice for the optimal number of models, as test accuracy does not show a steady increase.\n",
        "\n",
        "**Slight Overfitting Indication**: The consistently higher training accuracy may hint at overfitting, but the ensemble method does not exacerbate this.\n",
        "\n",
        "**Quality Over Quantity**: The results imply that the diversity and quality of models are more critical than the sheer number of models in the ensemble.\n"
      ]
    }
  ],
  "metadata": {
    "colab": {
      "provenance": []
    },
    "kernelspec": {
      "display_name": "Python 3",
      "name": "python3"
    },
    "language_info": {
      "codemirror_mode": {
        "name": "ipython",
        "version": 3
      },
      "file_extension": ".py",
      "mimetype": "text/x-python",
      "name": "python",
      "nbconvert_exporter": "python",
      "pygments_lexer": "ipython3",
      "version": "3.12.0"
    }
  },
  "nbformat": 4,
  "nbformat_minor": 0
}